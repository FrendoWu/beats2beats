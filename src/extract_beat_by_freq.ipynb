{
 "cells": [
  {
   "cell_type": "code",
   "execution_count": 115,
   "metadata": {},
   "outputs": [],
   "source": [
    "import midi\n",
    "import matplotlib.pyplot as plt\n",
    "from track_util import *\n",
    "from util import *"
   ]
  },
  {
   "cell_type": "code",
   "execution_count": 113,
   "metadata": {},
   "outputs": [],
   "source": [
    "midiname = \"../track/Big_Poppa_1_Acoustic_Guitar(steel).mid\"\n",
    "pattern = read_midifile(midiname)\n",
    "matrix = track_to_matrix(pattern[1])\n",
    "matrix = sort_matrix(matrix)"
   ]
  },
  {
   "cell_type": "code",
   "execution_count": 46,
   "metadata": {},
   "outputs": [
    {
     "data": {
      "text/plain": [
       "array([55, 57, 60, 64,  0,  0,  0,  0, 56, 59, 62, 65,  0,  0,  0,  0, 55,\n",
       "       59, 60, 64,  0,  0,  0,  0, 55, 57, 60, 64,  0,  0,  0,  0, 53, 57,\n",
       "       58, 62,  0,  0,  0,  0, 53, 57, 58, 62,  0,  0,  0,  0, 55, 57])"
      ]
     },
     "execution_count": 46,
     "metadata": {},
     "output_type": "execute_result"
    }
   ],
   "source": [
    "y = matrix[:,1] * np.array([bool(i) for i in matrix[:,2]])"
   ]
  },
  {
   "cell_type": "code",
   "execution_count": 13,
   "metadata": {},
   "outputs": [],
   "source": [
    "t = range(len(y))"
   ]
  },
  {
   "cell_type": "code",
   "execution_count": 118,
   "metadata": {},
   "outputs": [],
   "source": [
    "def cal_zero(l):\n",
    "    for i in range(len(l)):\n",
    "        if l[i] == 0:\n",
    "            pass\n",
    "        else:\n",
    "            return i\n",
    "    return len(l)"
   ]
  },
  {
   "cell_type": "code",
   "execution_count": 120,
   "metadata": {},
   "outputs": [],
   "source": [
    "tmp = 0\n",
    "idxs = []\n",
    "for i in range(1,len(y)):\n",
    "    res = y[i:] - y[:-i]\n",
    "    idx = cal_zero(res)\n",
    "    idxs.append(idx)"
   ]
  },
  {
   "cell_type": "code",
   "execution_count": 134,
   "metadata": {},
   "outputs": [
    {
     "data": {
      "text/plain": [
       "[48, 224, 400, 576, 736, 912, 1088, 1264, 1440, 1616, 1776, 1960]"
      ]
     },
     "execution_count": 134,
     "metadata": {},
     "output_type": "execute_result"
    }
   ],
   "source": [
    "iidx = []\n",
    "for idx, i in enumerate(idxs):\n",
    "    if i > 8:\n",
    "        iidx.append(idx+1)\n",
    "iidx"
   ]
  },
  {
   "cell_type": "code",
   "execution_count": 135,
   "metadata": {},
   "outputs": [
    {
     "data": {
      "text/plain": [
       "array([ 0,  0,  0,  0,  0,  0,  0,  0,  0,  0,  0,  0,  0,  0,  0,  0,  0,\n",
       "        0,  0,  0,  0,  0,  0,  0,  0,  0,  0,  0,  0,  0,  0,  0,  0,  0,\n",
       "        0,  0,  0,  0,  0,  0,  0,  0,  0,  0,  0,  0,  0,  0, -2,  0])"
      ]
     },
     "execution_count": 135,
     "metadata": {},
     "output_type": "execute_result"
    }
   ],
   "source": [
    "t = y[48:] - y[:-48]\n",
    "t[:50]"
   ]
  },
  {
   "cell_type": "code",
   "execution_count": 136,
   "metadata": {},
   "outputs": [],
   "source": [
    "pattern[1] = pattern[1][:4+47]"
   ]
  },
  {
   "cell_type": "code",
   "execution_count": 137,
   "metadata": {},
   "outputs": [],
   "source": [
    "midi.write_midifile(\"../test.mid\",pattern)"
   ]
  },
  {
   "cell_type": "code",
   "execution_count": null,
   "metadata": {},
   "outputs": [],
   "source": []
  }
 ],
 "metadata": {
  "kernelspec": {
   "display_name": "Python 3",
   "language": "python",
   "name": "python3"
  },
  "language_info": {
   "codemirror_mode": {
    "name": "ipython",
    "version": 3
   },
   "file_extension": ".py",
   "mimetype": "text/x-python",
   "name": "python",
   "nbconvert_exporter": "python",
   "pygments_lexer": "ipython3",
   "version": "3.7.0"
  }
 },
 "nbformat": 4,
 "nbformat_minor": 2
}
